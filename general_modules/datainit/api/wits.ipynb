{
 "cells": [
  {
   "cell_type": "code",
   "execution_count": 1,
   "metadata": {},
   "outputs": [],
   "source": [
    "import requests"
   ]
  },
  {
   "cell_type": "code",
   "execution_count": 11,
   "metadata": {},
   "outputs": [],
   "source": [
    "BASE_URL = \"http://wits.worldbank.org/API/V1/SDMX/V21/datasource/TRN/reporter/840/partner/000/product/020110/year/2000/datatype/reported\""
   ]
  },
  {
   "cell_type": "code",
   "execution_count": 16,
   "metadata": {},
   "outputs": [
    {
     "name": "stdout",
     "output_type": "stream",
     "text": [
      "\n",
      "\n",
      "<!DOCTYPE html PUBLIC \"-//W3C//DTD XHTML 1.0 Transitional//EN\" \"http://www.w3.org/TR/xhtml1/DTD/xhtml1-transitional.dtd\">\n",
      "\n",
      "<html xmlns=\"http://www.w3.org/1999/xhtml\">\n",
      "<head><title>\n",
      "\n",
      "</title></head>\n",
      "<body>\n",
      "    <form method=\"post\" action=\"./Error.aspx?aspxerrorpath=%2fAPI%2fV1%2fSDMX%2fV21%2frest%2fdata%2fdf_wits_tariff_trains%2f.840.000.020110.reported%2f\" id=\"form1\">\n",
      "<input type=\"hidden\" name=\"__VIEWSTATE\" id=\"__VIEWSTATE\" value=\"/wEPDwUKMTYyNzYyNTkyNGRkxPFmIlbxScrjb7XqONowE6FCsXN0Q0xZNSrWnA22zdI=\" />\n",
      "\n",
      "<input type=\"hidden\" name=\"__VIEWSTATEGENERATOR\" id=\"__VIEWSTATEGENERATOR\" value=\"F123525A\" />\n",
      "    <div>\n",
      "    <table align=\"center\" class=\"ErrorTable\" cellpadding=\"2\" cellspacing=\"2\" border=\"1\">\n",
      "    <tr>\n",
      "    <td class=\"tdbgcolour\">Error:</td>\n",
      "    <td>\n",
      "     \n",
      "\n",
      "    </td>\n",
      "    </tr>\n",
      "    <tr>\n",
      "    <td class=\"tdbgcolour\">Suggestion:</td>\n",
      "    <td>\n",
      "    <span id=\"lblError\">We are unable to process your request.Please contact WITS admin at <a href=\"mailto:wits@worldbank.org\"><b>wits@worldbank.org</b> </a>.\n",
      "</span>\n",
      "\n",
      "    </td>\n",
      "    </tr>\n",
      "   </table>\n",
      "    </div>\n",
      "    </form>\n",
      "</body>\n",
      "</html>\n",
      "\n"
     ]
    }
   ],
   "source": [
    "response = requests.get(BASE_URL)\n",
    "response.encoding = 'utf-8'\n",
    "print(response.text)"
   ]
  },
  {
   "cell_type": "code",
   "execution_count": 20,
   "metadata": {},
   "outputs": [],
   "source": [
    "REPORTER = \"ALL\"\n",
    "PARTNER = \"ALL\"\n",
    "PRODUCT = \"ALL\"\n",
    "YEAR = 2023\n",
    "TYPE = \"reported\" # reported or aveestimated\n",
    "Tariff_url = f\"\"\"http://wits.worldbank.org/API/V1/SDMX/V21/datasource/TRN/reporter/{REPORTER}/partner/{PARTNER}/product/{[PRODUCT]}/year/{YEAR}/datatype/{TYPE}[?format=JSON]\"\"\"\n",
    "response = requests.get(Tariff_url)"
   ]
  },
  {
   "cell_type": "code",
   "execution_count": 21,
   "metadata": {},
   "outputs": [
    {
     "name": "stdout",
     "output_type": "stream",
     "text": [
      "\n",
      "\n",
      "<!DOCTYPE html PUBLIC \"-//W3C//DTD XHTML 1.0 Transitional//EN\" \"http://www.w3.org/TR/xhtml1/DTD/xhtml1-transitional.dtd\">\n",
      "\n",
      "<html xmlns=\"http://www.w3.org/1999/xhtml\">\n",
      "<head><title>\n",
      "\n",
      "</title></head>\n",
      "<body>\n",
      "    <form method=\"post\" action=\"./Error.aspx?aspxerrorpath=%2fAPI%2fV1%2fSDMX%2fV21%2frest%2fdata%2fWITSAPIError%2fInvalid_Product\" id=\"form1\">\n",
      "<input type=\"hidden\" name=\"__VIEWSTATE\" id=\"__VIEWSTATE\" value=\"/wEPDwUKMTYyNzYyNTkyNGRkxPFmIlbxScrjb7XqONowE6FCsXN0Q0xZNSrWnA22zdI=\" />\n",
      "\n",
      "<input type=\"hidden\" name=\"__VIEWSTATEGENERATOR\" id=\"__VIEWSTATEGENERATOR\" value=\"F123525A\" />\n",
      "    <div>\n",
      "    <table align=\"center\" class=\"ErrorTable\" cellpadding=\"2\" cellspacing=\"2\" border=\"1\">\n",
      "    <tr>\n",
      "    <td class=\"tdbgcolour\">Error:</td>\n",
      "    <td>\n",
      "     \n",
      "\n",
      "    </td>\n",
      "    </tr>\n",
      "    <tr>\n",
      "    <td class=\"tdbgcolour\">Suggestion:</td>\n",
      "    <td>\n",
      "    <span id=\"lblError\">We are unable to process your request.Please contact WITS admin at <a href=\"mailto:wits@worldbank.org\"><b>wits@worldbank.org</b> </a>.\n",
      "</span>\n",
      "\n",
      "    </td>\n",
      "    </tr>\n",
      "   </table>\n",
      "    </div>\n",
      "    </form>\n",
      "</body>\n",
      "</html>\n",
      "\n"
     ]
    }
   ],
   "source": [
    "print(response.text)"
   ]
  }
 ],
 "metadata": {
  "kernelspec": {
   "display_name": "analysis",
   "language": "python",
   "name": "python3"
  },
  "language_info": {
   "codemirror_mode": {
    "name": "ipython",
    "version": 3
   },
   "file_extension": ".py",
   "mimetype": "text/x-python",
   "name": "python",
   "nbconvert_exporter": "python",
   "pygments_lexer": "ipython3",
   "version": "3.9.20"
  }
 },
 "nbformat": 4,
 "nbformat_minor": 2
}
